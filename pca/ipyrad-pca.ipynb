{
 "cells": [
  {
   "cell_type": "markdown",
   "id": "ed4332c8",
   "metadata": {},
   "source": [
    "Create PCA using ipyrad Analysis tools\n",
    "    On 111 individuals that do not include any confiscated individuals"
   ]
  },
  {
   "cell_type": "code",
   "execution_count": 1,
   "id": "0d231ab5",
   "metadata": {},
   "outputs": [],
   "source": [
    "# Dependencies\n",
    "import ipyrad.analysis as ipa\n",
    "import pandas as pd\n",
    "import toyplot\n",
    "import numpy as np"
   ]
  },
  {
   "cell_type": "code",
   "execution_count": 17,
   "id": "6919e6d1",
   "metadata": {},
   "outputs": [
    {
     "name": "stdout",
     "output_type": "stream",
     "text": [
      "Indexing VCF to HDF5 database file\n",
      "VCF: 227971 SNPs; 78927 scaffolds\n",
      "[####################] 100% 0:01:26 | converting VCF to HDF5 \n",
      "HDF5: 227971 SNPs; 78928 linkage group\n",
      "SNP database written to ./analysis-vcf2hdf5/88clust-104inds.snps.hdf5\n"
     ]
    }
   ],
   "source": [
    "# Only need to do this once to make the hdf5\n",
    "# Initialize converter to convert vcf to hdf5\n",
    "converter = ipa.vcf_to_hdf5(\n",
    "    name = \"88clust-104inds\",\n",
    "    data = \"/Users/AirAlex/Documents/NorthCarolina/TangledBank/ast/data-analysis-combined-runs/111inds-no-confiscated-inds/104inds-88clust.vcf\",\n",
    ")\n",
    "\n",
    "# Run the converter\n",
    "converter.run()"
   ]
  },
  {
   "cell_type": "code",
   "execution_count": 2,
   "id": "6f269fe1",
   "metadata": {},
   "outputs": [],
   "source": [
    "# Load the data\n",
    "# Load the HDF5 file\n",
    "data = \"/Users/AirAlex/Documents/NorthCarolina/TangledBank/ast/data-analysis-combined-runs/111inds-no-confiscated-inds/analysis-vcf2hdf5/88clust-104inds.snps.hdf5\""
   ]
  },
  {
   "cell_type": "code",
   "execution_count": 3,
   "id": "abbf8827",
   "metadata": {},
   "outputs": [],
   "source": [
    "# Import population map (one column of inds, one column of pop names) and convert to dictionary\n",
    "\n",
    "df = pd.read_csv(\"/Users/AirAlex/Documents/NorthCarolina/TangledBank/ast/data-analysis-combined-runs/111inds-no-confiscated-inds/104inds-just-inds-and-pops.csv\", sep=',')\n",
    "\n",
    "# Note we're using new groupings now to avoid \"pops\" with 1 individual in them\n",
    "imap = df.groupby('pop.for.pca.structure')['ind'].apply(list).to_dict()"
   ]
  },
  {
   "cell_type": "code",
   "execution_count": 4,
   "id": "8fac367c",
   "metadata": {},
   "outputs": [
    {
     "name": "stdout",
     "output_type": "stream",
     "text": [
      "Samples: 104\n",
      "Sites before filtering: 227971\n",
      "Filtered (indels): 0\n",
      "Filtered (bi-allel): 22932\n",
      "Filtered (mincov): 168166\n",
      "Filtered (minmap): 223359\n",
      "Filtered (subsample invariant): 1322\n",
      "Filtered (minor allele frequency): 0\n",
      "Filtered (combined): 226576\n",
      "Sites after filtering: 4374\n",
      "Sites containing missing values: 4374 (100.00%)\n",
      "Missing values in SNP matrix: 127620 (28.05%)\n",
      "SNPs (total): 4374\n",
      "SNPs (unlinked): 1973\n",
      "Imputation: 'sampled'; (0, 1, 2) = 81.6%, 5.9%, 12.6%\n"
     ]
    }
   ],
   "source": [
    "# Set missing data thresholds per population (percent of a pop that must have data)\n",
    "\n",
    "minmap = {i: 0.1 for i in imap}\n",
    "\n",
    "# Mincov filters SNPs that are shared across less than 50% of the individuals\n",
    "pca = ipa.pca(data = data,\n",
    "             imap = imap,\n",
    "             minmap = minmap,\n",
    "             mincov = 0.5,\n",
    "             impute_method = \"sample\")"
   ]
  },
  {
   "cell_type": "code",
   "execution_count": 5,
   "id": "f7603d5a",
   "metadata": {},
   "outputs": [
    {
     "name": "stdout",
     "output_type": "stream",
     "text": [
      "Subsampling SNPs: 1973/4374\n"
     ]
    }
   ],
   "source": [
    "# Run the PCA\n",
    "pca.run(nreplicates = 25)"
   ]
  },
  {
   "cell_type": "code",
   "execution_count": 25,
   "id": "2b58ccc5",
   "metadata": {},
   "outputs": [
    {
     "data": {
      "text/plain": [
       "104"
      ]
     },
     "execution_count": 25,
     "metadata": {},
     "output_type": "execute_result"
    }
   ],
   "source": [
    "# Draw the pca\n",
    "pca.draw(1,2)"
   ]
  },
  {
   "cell_type": "code",
   "execution_count": 21,
   "id": "4496d8a8",
   "metadata": {},
   "outputs": [],
   "source": [
    "# Save the PCA dataset to csv\n",
    "\n",
    "df = pd.DataFrame(pca.pcaxes[0], index = pca.names)\n",
    "\n",
    "df.to_csv(\"/Users/AirAlex/Documents/NorthCarolina/TangledBank/ast/data-analysis-combined-runs/111inds-no-confiscated-inds/pca/pca-df-mincov5-no-pops-with-1ind.csv\")"
   ]
  }
 ],
 "metadata": {
  "kernelspec": {
   "display_name": "Python 3 (ipykernel)",
   "language": "python",
   "name": "python3"
  },
  "language_info": {
   "codemirror_mode": {
    "name": "ipython",
    "version": 3
   },
   "file_extension": ".py",
   "mimetype": "text/x-python",
   "name": "python",
   "nbconvert_exporter": "python",
   "pygments_lexer": "ipython3",
   "version": "3.8.11"
  }
 },
 "nbformat": 4,
 "nbformat_minor": 5
}
